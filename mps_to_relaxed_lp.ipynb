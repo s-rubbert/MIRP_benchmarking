{
 "cells": [
  {
   "cell_type": "code",
   "execution_count": 1,
   "id": "e0237570-3276-46d9-b63d-870545b256d4",
   "metadata": {},
   "outputs": [],
   "source": [
    "import numpy as np\n",
    "import scipy.optimize as opt\n",
    "import scipy.sparse as sparse"
   ]
  },
  {
   "cell_type": "code",
   "execution_count": 2,
   "id": "913afe08-4e44-4fbd-8b62-4703b0b2a22b",
   "metadata": {},
   "outputs": [],
   "source": [
    "def open_lp(file):\n",
    "    with open(file) as f:\n",
    "        lines = f.readlines()\n",
    "\n",
    "    lines = np.array(lines)\n",
    "\n",
    "    objective_start = np.argwhere(lines == 'Minimize\\n')[0, 0]\n",
    "    constraints_start = np.argwhere(lines == 'Subject To\\n')[0, 0]\n",
    "    bounds_start = np.argwhere(lines == 'Bounds\\n')[0, 0]\n",
    "    end = np.argwhere(lines == 'End\\n')[0, 0] \n",
    "    print(bounds_start)\n",
    "    return (\n",
    "        lines[objective_start+1:constraints_start], \n",
    "        lines[constraints_start+1:bounds_start], \n",
    "        lines[bounds_start+1:end]\n",
    "    )\n",
    "\n",
    "def open_mps(file):\n",
    "    \n",
    "    with open(file) as f:\n",
    "        lines = f.readlines()\n",
    "    \n",
    "    lines = np.array(lines)\n",
    "    row_start = np.argwhere(lines == 'ROWS\\n')[0, 0]\n",
    "    column_start = np.argwhere(lines == 'COLUMNS\\n')[0, 0]\n",
    "    rhs_start = np.argwhere(lines == 'RHS\\n')[0, 0]\n",
    "    bound_start = np.argwhere(lines == 'BOUNDS\\n')[0, 0]\n",
    "    \n",
    "    return (\n",
    "        lines[row_start+1:column_start], \n",
    "        lines[column_start+1:rhs_start], \n",
    "        lines[rhs_start+1:bound_start], \n",
    "        lines[bound_start+1:-1]\n",
    "    )"
   ]
  },
  {
   "cell_type": "code",
   "execution_count": 3,
   "id": "823362fd-c065-48e4-b6e3-f2a4c2d46bca",
   "metadata": {},
   "outputs": [],
   "source": [
    "def read_variables(columns_section, bounds_section):\n",
    "    \n",
    "    def read_bounds(bound_type, value, entry):\n",
    "        if bound_type == 'UP':\n",
    "            return (entry[0], entry[1], float(value))\n",
    "        elif bound_type == 'FX':\n",
    "            return (entry[0], float(value), float(value))\n",
    "        elif bound_type == 'LO':\n",
    "            return (entry[0], float(value), entry[2])\n",
    "        else:\n",
    "            print(f'Bound type {bound_type} is not supported.')\n",
    "    \n",
    "    variables = {}\n",
    "    # keep int_marker, i.e., the information whether a variable is discrete in here. Not necessary \n",
    "    # immidiately but allows easy expansion of the code. \n",
    "    int_marker = False\n",
    "    \n",
    "    for line in columns_section:\n",
    "        if not \"'MARKER'\" in line:\n",
    "            variables[line.lstrip().split(' ')[0]] = (int_marker, None, None)\n",
    "        else:\n",
    "            int_marker = \"'INTORG'\" in line\n",
    "            \n",
    "    for line in bounds_section:\n",
    "        try:\n",
    "            bound_type, _, variable_name, value = line.split()\n",
    "            variables[variable_name] = read_bounds(bound_type, value, variables[variable_name])\n",
    "        except:\n",
    "            print(line)\n",
    "            break\n",
    "        \n",
    "    variable_indices = {name: index for index, (name, _) in enumerate(variables.items())}\n",
    "    bounds, discrete = [None for i in range(len(variables))], [None for i in range(len(variables))]\n",
    "    for name, entry in variables.items():\n",
    "        bounds[variable_indices[name]] = entry[1:]\n",
    "        discrete[variable_indices[name]] = entry[0]\n",
    "    \n",
    "    return variable_indices, bounds, discrete"
   ]
  },
  {
   "cell_type": "code",
   "execution_count": 68,
   "id": "dedace51-1d28-403a-9587-dc7097a974b3",
   "metadata": {},
   "outputs": [],
   "source": [
    "def read_equalities(rows_section, columns_section, rhs_section, variable_indices):\n",
    "    \n",
    "    def vectorize(rows_lhs):\n",
    "        row_indices = {name: index for index, name in enumerate(rows_lhs.keys())}\n",
    "        entries, index_1, index_2 = [], [], []\n",
    "        for row, terms in rows_lhs.items():\n",
    "            for entry, variable in terms:\n",
    "                entries.append(entry)\n",
    "                index_1.append(row_indices[row])\n",
    "                index_2.append(variable_indices[variable])\n",
    "        \n",
    "        matrix_lhs = sparse.coo_array(\n",
    "            (entries, (index_1, index_2)),\n",
    "            shape=(len(row_indices), len(variable_indices))\n",
    "        )\n",
    "        \n",
    "        vector_rhs = np.zeros(len(rows_lhs))\n",
    "        for name, index in row_indices.items():\n",
    "            try:\n",
    "                vector_rhs[index] = rows_rhs[name]\n",
    "            except:\n",
    "                None\n",
    "        \n",
    "        return matrix_lhs, vector_rhs\n",
    "        \n",
    "    \n",
    "    rows_lhs = {\n",
    "        line.split()[1]: []\n",
    "        for line in rows_section\n",
    "    }\n",
    "    \n",
    "    for term in columns_section:\n",
    "        if not \"'MARKER'\" in term:\n",
    "            column, row, entry = term.split()\n",
    "            rows_lhs[row].append([float(entry), column])\n",
    "    \n",
    "    rows_rel = {\n",
    "        line.split()[1]: line.split()[0]\n",
    "        for line in rows_section\n",
    "    }\n",
    "    \n",
    "    rows_rhs = {\n",
    "        line.split()[1]: float(line.split()[2])\n",
    "        for line in rhs_section\n",
    "    }\n",
    "    \n",
    "    # construct upper bound and equality constraint matrices\n",
    "    ubs = {key: entry for key, entry in rows_lhs.items() if rows_rel[key] == 'L'}\n",
    "    lbs = {key: entry for key, entry in rows_lhs.items() if rows_rel[key] == 'G'}\n",
    "    eqs = {key: entry for key, entry in rows_lhs.items() if rows_rel[key] == 'E'}\n",
    "    obj = {key: entry for key, entry in rows_lhs.items() if rows_rel[key] == 'N'}\n",
    "    assert len(obj) == 1, 'There has to be exactly one objective!'\n",
    "    \n",
    "    A_ub, b_ub = vectorize(ubs)#sparse.vstack([build_mat(ubs), -build_mat(lbs)])\n",
    "    A_lb, b_lb = vectorize(lbs)\n",
    "    # solver convention: only use upper bounds -> translate lower bounds\n",
    "    A_ub, b_ub = sparse.vstack([A_ub, -A_lb]), np.stack([b_ub, -b_lb])\n",
    "    # keep going with equations and the objective\n",
    "    A_eq, b_eq = vectorize(eqs)\n",
    "    c, offset = vectorize(obj)\n",
    "    # the objective is usually not sparse\n",
    "    c = -c.todense()\n",
    "    offset = offset[0]\n",
    "    \n",
    "    return c, A_ub, b_ub, A_eq, b_eq, offset"
   ]
  },
  {
   "cell_type": "code",
   "execution_count": 69,
   "id": "51198a76-77b5-400e-ac9d-19392ada61c7",
   "metadata": {},
   "outputs": [],
   "source": [
    "file = 'MIRPs/test_instance.mps'\n",
    "\n",
    "rows_section, columns_section, rhs_section, bounds_section = open_mps(file)\n",
    "variable_indices, bounds, discrete = read_variables(columns_section, bounds_section)\n",
    "c, A_ub, b_ub, A_eq, b_eq, offset = read_equalities(rows_section, columns_section, rhs_section, variable_indices)"
   ]
  },
  {
   "cell_type": "code",
   "execution_count": 70,
   "id": "e51d18a3-227d-4ded-87f1-b69414d43ce7",
   "metadata": {},
   "outputs": [
    {
     "data": {
      "text/plain": [
       "           con: array([0.])\n",
       " crossover_nit: 0\n",
       "         eqlin:  marginals: array([-9.])\n",
       "  residual: array([0.])\n",
       "           fun: -80.0\n",
       "       ineqlin:  marginals: array([-0., -0.])\n",
       "  residual: array([0., 2.])\n",
       "         lower:  marginals: array([0., 0., 0.])\n",
       "  residual: array([inf,  2., inf])\n",
       "       message: 'Optimization terminated successfully. (HiGHS Status 7: Optimal)'\n",
       "           nit: 0\n",
       "         slack: array([0., 2.])\n",
       "        status: 0\n",
       "       success: True\n",
       "         upper:  marginals: array([ -1., -13.,   0.])\n",
       "  residual: array([ 0.,  0., inf])\n",
       "             x: array([4., 1., 8.])"
      ]
     },
     "execution_count": 70,
     "metadata": {},
     "output_type": "execute_result"
    }
   ],
   "source": [
    "opt.linprog(c, A_ub, b_ub, A_eq, b_eq, bounds)"
   ]
  },
  {
   "cell_type": "code",
   "execution_count": null,
   "id": "4c933a40-cca8-429b-920c-70ca75101892",
   "metadata": {},
   "outputs": [],
   "source": []
  },
  {
   "cell_type": "code",
   "execution_count": null,
   "id": "926525e5-6c37-4e4d-8ae3-264176203476",
   "metadata": {},
   "outputs": [],
   "source": []
  },
  {
   "cell_type": "code",
   "execution_count": 30,
   "id": "d7fbf02c-0e58-464e-8531-39aeada57bed",
   "metadata": {},
   "outputs": [
    {
     "data": {
      "text/plain": [
       "{'XONE': 0, 'YTWO': 1, 'ZTHREE': 2}"
      ]
     },
     "execution_count": 30,
     "metadata": {},
     "output_type": "execute_result"
    }
   ],
   "source": [
    "variable_indices"
   ]
  },
  {
   "cell_type": "code",
   "execution_count": 7,
   "id": "6267fa67-38e1-4d7b-97cc-64513cc251b3",
   "metadata": {},
   "outputs": [
    {
     "data": {
      "text/plain": [
       "[(None, 4.0), (-1.0, 1.0), (None, None)]"
      ]
     },
     "execution_count": 7,
     "metadata": {},
     "output_type": "execute_result"
    }
   ],
   "source": [
    "bounds"
   ]
  },
  {
   "cell_type": "code",
   "execution_count": 8,
   "id": "7c3c102c-1b00-46f4-aac9-39b0f201ad11",
   "metadata": {},
   "outputs": [
    {
     "data": {
      "text/plain": [
       "[False, False, False]"
      ]
     },
     "execution_count": 8,
     "metadata": {},
     "output_type": "execute_result"
    }
   ],
   "source": [
    "discrete"
   ]
  },
  {
   "cell_type": "code",
   "execution_count": null,
   "id": "904d3322-23f6-4d6d-bdf0-8470730ec7e7",
   "metadata": {},
   "outputs": [],
   "source": []
  },
  {
   "cell_type": "code",
   "execution_count": null,
   "id": "d9aad608-fb0c-4b06-8c83-887c0c4d9f8c",
   "metadata": {},
   "outputs": [],
   "source": []
  },
  {
   "cell_type": "code",
   "execution_count": null,
   "id": "442f7f11-bc2c-4c7b-b84e-081dcdf3b24f",
   "metadata": {},
   "outputs": [],
   "source": []
  },
  {
   "cell_type": "code",
   "execution_count": null,
   "id": "7228b04a-ce21-4062-817f-f7fcd24741a6",
   "metadata": {},
   "outputs": [],
   "source": []
  },
  {
   "cell_type": "code",
   "execution_count": null,
   "id": "b3dcf1a9-1c76-4290-8cea-981b1506bce3",
   "metadata": {},
   "outputs": [],
   "source": []
  },
  {
   "cell_type": "code",
   "execution_count": 9,
   "id": "13478ef4-8179-41fd-92cc-65e50aed1de3",
   "metadata": {},
   "outputs": [
    {
     "data": {
      "text/plain": [
       "           con: array([], dtype=float64)\n",
       " crossover_nit: 0\n",
       "         eqlin:  marginals: array([], dtype=float64)\n",
       "  residual: array([], dtype=float64)\n",
       "           fun: -2.0\n",
       "       ineqlin:  marginals: array([-0.])\n",
       "  residual: array([0.])\n",
       "         lower:  marginals: array([0., 0., 0.])\n",
       "  residual: array([1., 0., 1.])\n",
       "       message: 'Optimization terminated successfully. (HiGHS Status 7: Optimal)'\n",
       "           nit: 0\n",
       "         slack: array([0.])\n",
       "        status: 0\n",
       "       success: True\n",
       "         upper:  marginals: array([-1.,  0., -1.])\n",
       "  residual: array([0., 1., 0.])\n",
       "             x: array([1., 0., 1.])"
      ]
     },
     "execution_count": 9,
     "metadata": {},
     "output_type": "execute_result"
    }
   ],
   "source": [
    "c = np.array([-1, 0, -1])\n",
    "\n",
    "A_ub = np.array([[1, 1, 1]])\n",
    "test = sparse.coo_array(\n",
    "    (\n",
    "        [1, 1], \n",
    "        ([0, 0], [0, 2])\n",
    "    ), \n",
    "    shape=(1, 3)\n",
    ")\n",
    "b_ub = 2\n",
    "\n",
    "opt.linprog(c, test, b_ub, bounds=[(0,1), (0,1), (0,1)])"
   ]
  },
  {
   "cell_type": "code",
   "execution_count": 10,
   "id": "499d1c70-2a09-4821-9f02-757875c635d3",
   "metadata": {},
   "outputs": [
    {
     "data": {
      "text/plain": [
       "array([[1, 0, 1]])"
      ]
     },
     "execution_count": 10,
     "metadata": {},
     "output_type": "execute_result"
    }
   ],
   "source": [
    "test.todense()"
   ]
  },
  {
   "cell_type": "code",
   "execution_count": null,
   "id": "9c30b792-c620-4b76-a32d-45765c4608ee",
   "metadata": {},
   "outputs": [],
   "source": []
  }
 ],
 "metadata": {
  "kernelspec": {
   "display_name": "Python 3 (ipykernel)",
   "language": "python",
   "name": "python3"
  },
  "language_info": {
   "codemirror_mode": {
    "name": "ipython",
    "version": 3
   },
   "file_extension": ".py",
   "mimetype": "text/x-python",
   "name": "python",
   "nbconvert_exporter": "python",
   "pygments_lexer": "ipython3",
   "version": "3.9.13"
  }
 },
 "nbformat": 4,
 "nbformat_minor": 5
}
